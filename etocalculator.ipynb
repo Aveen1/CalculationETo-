{
 "cells": [
  {
   "cell_type": "code",
   "execution_count": 1,
   "metadata": {},
   "outputs": [],
   "source": [
    "from eto import ETo, datasets\n",
    "import pandas as pd\n"
   ]
  },
  {
   "cell_type": "code",
   "execution_count": 2,
   "metadata": {},
   "outputs": [],
   "source": [
    "et1 = ETo()"
   ]
  },
  {
   "cell_type": "code",
   "execution_count": 3,
   "metadata": {},
   "outputs": [],
   "source": [
    "ex1_path = datasets.get_path('example_daily')\n",
    "tsdata = pd.read_csv(ex1_path, parse_dates=True, infer_datetime_format=True, index_col='date')"
   ]
  },
  {
   "cell_type": "code",
   "execution_count": 4,
   "metadata": {},
   "outputs": [
    {
     "data": {
      "text/html": [
       "<div>\n",
       "<style scoped>\n",
       "    .dataframe tbody tr th:only-of-type {\n",
       "        vertical-align: middle;\n",
       "    }\n",
       "\n",
       "    .dataframe tbody tr th {\n",
       "        vertical-align: top;\n",
       "    }\n",
       "\n",
       "    .dataframe thead th {\n",
       "        text-align: right;\n",
       "    }\n",
       "</style>\n",
       "<table border=\"1\" class=\"dataframe\">\n",
       "  <thead>\n",
       "    <tr style=\"text-align: right;\">\n",
       "      <th></th>\n",
       "      <th>R_s</th>\n",
       "      <th>T_max</th>\n",
       "      <th>T_min</th>\n",
       "      <th>e_a</th>\n",
       "    </tr>\n",
       "    <tr>\n",
       "      <th>date</th>\n",
       "      <th></th>\n",
       "      <th></th>\n",
       "      <th></th>\n",
       "      <th></th>\n",
       "    </tr>\n",
       "  </thead>\n",
       "  <tbody>\n",
       "    <tr>\n",
       "      <th>2000-01-01</th>\n",
       "      <td>13.4</td>\n",
       "      <td>17.700001</td>\n",
       "      <td>13.7</td>\n",
       "      <td>1.60</td>\n",
       "    </tr>\n",
       "    <tr>\n",
       "      <th>2000-01-02</th>\n",
       "      <td>14.7</td>\n",
       "      <td>19.600000</td>\n",
       "      <td>13.0</td>\n",
       "      <td>1.68</td>\n",
       "    </tr>\n",
       "    <tr>\n",
       "      <th>2000-01-03</th>\n",
       "      <td>12.2</td>\n",
       "      <td>21.700001</td>\n",
       "      <td>9.2</td>\n",
       "      <td>1.09</td>\n",
       "    </tr>\n",
       "    <tr>\n",
       "      <th>2000-01-04</th>\n",
       "      <td>4.2</td>\n",
       "      <td>14.400000</td>\n",
       "      <td>8.4</td>\n",
       "      <td>1.04</td>\n",
       "    </tr>\n",
       "    <tr>\n",
       "      <th>2000-01-05</th>\n",
       "      <td>14.1</td>\n",
       "      <td>11.700000</td>\n",
       "      <td>8.9</td>\n",
       "      <td>1.12</td>\n",
       "    </tr>\n",
       "  </tbody>\n",
       "</table>\n",
       "</div>"
      ],
      "text/plain": [
       "             R_s      T_max  T_min   e_a\n",
       "date                                    \n",
       "2000-01-01  13.4  17.700001   13.7  1.60\n",
       "2000-01-02  14.7  19.600000   13.0  1.68\n",
       "2000-01-03  12.2  21.700001    9.2  1.09\n",
       "2000-01-04   4.2  14.400000    8.4  1.04\n",
       "2000-01-05  14.1  11.700000    8.9  1.12"
      ]
     },
     "execution_count": 4,
     "metadata": {},
     "output_type": "execute_result"
    }
   ],
   "source": [
    "tsdata.head()"
   ]
  },
  {
   "cell_type": "code",
   "execution_count": 5,
   "metadata": {},
   "outputs": [],
   "source": [
    "z_msl = 500"
   ]
  },
  {
   "cell_type": "code",
   "execution_count": 6,
   "metadata": {},
   "outputs": [],
   "source": [
    "lat = 24.8607"
   ]
  },
  {
   "cell_type": "code",
   "execution_count": 7,
   "metadata": {},
   "outputs": [],
   "source": [
    "lon = 67.00"
   ]
  },
  {
   "cell_type": "code",
   "execution_count": 8,
   "metadata": {},
   "outputs": [],
   "source": [
    "TZ_lon = 173"
   ]
  },
  {
   "cell_type": "code",
   "execution_count": 9,
   "metadata": {},
   "outputs": [],
   "source": [
    "freq = 'D'"
   ]
  },
  {
   "cell_type": "code",
   "execution_count": 10,
   "metadata": {},
   "outputs": [],
   "source": [
    "et1.param_est(tsdata, freq, z_msl, lat, lon, TZ_lon)"
   ]
  },
  {
   "cell_type": "code",
   "execution_count": 11,
   "metadata": {},
   "outputs": [
    {
     "data": {
      "text/html": [
       "<div>\n",
       "<style scoped>\n",
       "    .dataframe tbody tr th:only-of-type {\n",
       "        vertical-align: middle;\n",
       "    }\n",
       "\n",
       "    .dataframe tbody tr th {\n",
       "        vertical-align: top;\n",
       "    }\n",
       "\n",
       "    .dataframe thead th {\n",
       "        text-align: right;\n",
       "    }\n",
       "</style>\n",
       "<table border=\"1\" class=\"dataframe\">\n",
       "  <thead>\n",
       "    <tr style=\"text-align: right;\">\n",
       "      <th></th>\n",
       "      <th>R_s</th>\n",
       "      <th>T_max</th>\n",
       "      <th>T_min</th>\n",
       "      <th>e_a</th>\n",
       "      <th>R_n</th>\n",
       "      <th>G</th>\n",
       "      <th>T_mean</th>\n",
       "      <th>T_dew</th>\n",
       "      <th>RH_min</th>\n",
       "      <th>RH_max</th>\n",
       "      <th>...</th>\n",
       "      <th>n_sun</th>\n",
       "      <th>U_z</th>\n",
       "      <th>P</th>\n",
       "      <th>gamma</th>\n",
       "      <th>e_max</th>\n",
       "      <th>e_min</th>\n",
       "      <th>e_s</th>\n",
       "      <th>delta</th>\n",
       "      <th>R_a</th>\n",
       "      <th>U_2</th>\n",
       "    </tr>\n",
       "    <tr>\n",
       "      <th>date</th>\n",
       "      <th></th>\n",
       "      <th></th>\n",
       "      <th></th>\n",
       "      <th></th>\n",
       "      <th></th>\n",
       "      <th></th>\n",
       "      <th></th>\n",
       "      <th></th>\n",
       "      <th></th>\n",
       "      <th></th>\n",
       "      <th></th>\n",
       "      <th></th>\n",
       "      <th></th>\n",
       "      <th></th>\n",
       "      <th></th>\n",
       "      <th></th>\n",
       "      <th></th>\n",
       "      <th></th>\n",
       "      <th></th>\n",
       "      <th></th>\n",
       "      <th></th>\n",
       "    </tr>\n",
       "  </thead>\n",
       "  <tbody>\n",
       "    <tr>\n",
       "      <th>2000-01-01</th>\n",
       "      <td>13.4</td>\n",
       "      <td>17.700001</td>\n",
       "      <td>13.7</td>\n",
       "      <td>1.60</td>\n",
       "      <td>6.521282</td>\n",
       "      <td>0.0</td>\n",
       "      <td>15.70</td>\n",
       "      <td>NaN</td>\n",
       "      <td>NaN</td>\n",
       "      <td>NaN</td>\n",
       "      <td>...</td>\n",
       "      <td>NaN</td>\n",
       "      <td>NaN</td>\n",
       "      <td>95.527647</td>\n",
       "      <td>0.063526</td>\n",
       "      <td>2.025376</td>\n",
       "      <td>1.567747</td>\n",
       "      <td>1.796562</td>\n",
       "      <td>0.114199</td>\n",
       "      <td>23.052870</td>\n",
       "      <td>2.0</td>\n",
       "    </tr>\n",
       "    <tr>\n",
       "      <th>2000-01-02</th>\n",
       "      <td>14.7</td>\n",
       "      <td>19.600000</td>\n",
       "      <td>13.0</td>\n",
       "      <td>1.68</td>\n",
       "      <td>7.057623</td>\n",
       "      <td>0.0</td>\n",
       "      <td>16.30</td>\n",
       "      <td>NaN</td>\n",
       "      <td>NaN</td>\n",
       "      <td>NaN</td>\n",
       "      <td>...</td>\n",
       "      <td>NaN</td>\n",
       "      <td>NaN</td>\n",
       "      <td>95.527647</td>\n",
       "      <td>0.063526</td>\n",
       "      <td>2.281006</td>\n",
       "      <td>1.497771</td>\n",
       "      <td>1.889388</td>\n",
       "      <td>0.118099</td>\n",
       "      <td>23.101807</td>\n",
       "      <td>2.0</td>\n",
       "    </tr>\n",
       "    <tr>\n",
       "      <th>2000-01-03</th>\n",
       "      <td>12.2</td>\n",
       "      <td>21.700001</td>\n",
       "      <td>9.2</td>\n",
       "      <td>1.09</td>\n",
       "      <td>5.519565</td>\n",
       "      <td>0.0</td>\n",
       "      <td>15.45</td>\n",
       "      <td>NaN</td>\n",
       "      <td>NaN</td>\n",
       "      <td>NaN</td>\n",
       "      <td>...</td>\n",
       "      <td>NaN</td>\n",
       "      <td>NaN</td>\n",
       "      <td>95.527647</td>\n",
       "      <td>0.063526</td>\n",
       "      <td>2.595970</td>\n",
       "      <td>1.163665</td>\n",
       "      <td>1.879817</td>\n",
       "      <td>0.112606</td>\n",
       "      <td>23.154530</td>\n",
       "      <td>2.0</td>\n",
       "    </tr>\n",
       "    <tr>\n",
       "      <th>2000-01-04</th>\n",
       "      <td>4.2</td>\n",
       "      <td>14.400000</td>\n",
       "      <td>8.4</td>\n",
       "      <td>1.04</td>\n",
       "      <td>3.415321</td>\n",
       "      <td>0.0</td>\n",
       "      <td>11.40</td>\n",
       "      <td>NaN</td>\n",
       "      <td>NaN</td>\n",
       "      <td>NaN</td>\n",
       "      <td>...</td>\n",
       "      <td>NaN</td>\n",
       "      <td>NaN</td>\n",
       "      <td>95.527647</td>\n",
       "      <td>0.063526</td>\n",
       "      <td>1.640576</td>\n",
       "      <td>1.102347</td>\n",
       "      <td>1.371462</td>\n",
       "      <td>0.089314</td>\n",
       "      <td>23.211015</td>\n",
       "      <td>2.0</td>\n",
       "    </tr>\n",
       "    <tr>\n",
       "      <th>2000-01-05</th>\n",
       "      <td>14.1</td>\n",
       "      <td>11.700000</td>\n",
       "      <td>8.9</td>\n",
       "      <td>1.12</td>\n",
       "      <td>6.446142</td>\n",
       "      <td>0.0</td>\n",
       "      <td>10.30</td>\n",
       "      <td>NaN</td>\n",
       "      <td>NaN</td>\n",
       "      <td>NaN</td>\n",
       "      <td>...</td>\n",
       "      <td>NaN</td>\n",
       "      <td>NaN</td>\n",
       "      <td>95.527647</td>\n",
       "      <td>0.063526</td>\n",
       "      <td>1.375058</td>\n",
       "      <td>1.140328</td>\n",
       "      <td>1.257693</td>\n",
       "      <td>0.083748</td>\n",
       "      <td>23.271236</td>\n",
       "      <td>2.0</td>\n",
       "    </tr>\n",
       "  </tbody>\n",
       "</table>\n",
       "<p>5 rows × 21 columns</p>\n",
       "</div>"
      ],
      "text/plain": [
       "             R_s      T_max  T_min   e_a       R_n    G  T_mean  T_dew  \\\n",
       "date                                                                     \n",
       "2000-01-01  13.4  17.700001   13.7  1.60  6.521282  0.0   15.70    NaN   \n",
       "2000-01-02  14.7  19.600000   13.0  1.68  7.057623  0.0   16.30    NaN   \n",
       "2000-01-03  12.2  21.700001    9.2  1.09  5.519565  0.0   15.45    NaN   \n",
       "2000-01-04   4.2  14.400000    8.4  1.04  3.415321  0.0   11.40    NaN   \n",
       "2000-01-05  14.1  11.700000    8.9  1.12  6.446142  0.0   10.30    NaN   \n",
       "\n",
       "            RH_min  RH_max  ...  n_sun  U_z          P     gamma     e_max  \\\n",
       "date                        ...                                              \n",
       "2000-01-01     NaN     NaN  ...    NaN  NaN  95.527647  0.063526  2.025376   \n",
       "2000-01-02     NaN     NaN  ...    NaN  NaN  95.527647  0.063526  2.281006   \n",
       "2000-01-03     NaN     NaN  ...    NaN  NaN  95.527647  0.063526  2.595970   \n",
       "2000-01-04     NaN     NaN  ...    NaN  NaN  95.527647  0.063526  1.640576   \n",
       "2000-01-05     NaN     NaN  ...    NaN  NaN  95.527647  0.063526  1.375058   \n",
       "\n",
       "               e_min       e_s     delta        R_a  U_2  \n",
       "date                                                      \n",
       "2000-01-01  1.567747  1.796562  0.114199  23.052870  2.0  \n",
       "2000-01-02  1.497771  1.889388  0.118099  23.101807  2.0  \n",
       "2000-01-03  1.163665  1.879817  0.112606  23.154530  2.0  \n",
       "2000-01-04  1.102347  1.371462  0.089314  23.211015  2.0  \n",
       "2000-01-05  1.140328  1.257693  0.083748  23.271236  2.0  \n",
       "\n",
       "[5 rows x 21 columns]"
      ]
     },
     "execution_count": 11,
     "metadata": {},
     "output_type": "execute_result"
    }
   ],
   "source": [
    "et1.ts_param.head()"
   ]
  },
  {
   "cell_type": "code",
   "execution_count": 12,
   "metadata": {},
   "outputs": [],
   "source": [
    "eto1 = et1.eto_fao()\n"
   ]
  },
  {
   "cell_type": "code",
   "execution_count": 29,
   "metadata": {},
   "outputs": [
    {
     "data": {
      "text/plain": [
       "date\n",
       "2000-01-01    1.73\n",
       "2000-01-02    1.88\n",
       "2000-01-03    2.58\n",
       "2000-01-04    1.31\n",
       "2000-01-05    1.45\n",
       "Name: ETo_FAO_mm, dtype: float64"
      ]
     },
     "execution_count": 29,
     "metadata": {},
     "output_type": "execute_result"
    }
   ],
   "source": [
    "eto1.head()"
   ]
  },
  {
   "cell_type": "code",
   "execution_count": 30,
   "metadata": {},
   "outputs": [
    {
     "name": "stdout",
     "output_type": "stream",
     "text": [
      "date\n",
      "2000-01-01    1.73\n",
      "2000-01-02    1.88\n",
      "2000-01-03    2.58\n",
      "2000-01-04    1.31\n",
      "2000-01-05    1.45\n",
      "2000-01-06    2.55\n",
      "2000-01-07    2.04\n",
      "2000-01-08    1.46\n",
      "2000-01-09    2.50\n",
      "2000-01-10    1.92\n",
      "2000-01-11    2.61\n",
      "2000-01-12    2.64\n",
      "2000-01-13    2.81\n",
      "2000-01-14    3.47\n",
      "2000-01-15    1.67\n",
      "2000-01-16    2.60\n",
      "2000-01-17    2.62\n",
      "2000-01-18    2.90\n",
      "2000-01-19    3.12\n",
      "2000-01-20    2.80\n",
      "2000-01-21    3.14\n",
      "2000-01-22    2.99\n",
      "2000-01-23    3.77\n",
      "2000-01-24    2.74\n",
      "2000-01-25    2.69\n",
      "2000-01-26    2.34\n",
      "2000-01-27    2.89\n",
      "2000-01-28    2.99\n",
      "2000-01-29    1.55\n",
      "2000-01-30    3.86\n",
      "              ... \n",
      "2015-12-02    1.67\n",
      "2015-12-03    4.30\n",
      "2015-12-04    3.66\n",
      "2015-12-05    1.81\n",
      "2015-12-06    3.64\n",
      "2015-12-07    1.49\n",
      "2015-12-08    2.18\n",
      "2015-12-09    2.54\n",
      "2015-12-10    1.71\n",
      "2015-12-11    3.74\n",
      "2015-12-12    1.50\n",
      "2015-12-13    4.01\n",
      "2015-12-14    1.77\n",
      "2015-12-15    3.17\n",
      "2015-12-16    2.84\n",
      "2015-12-17    1.66\n",
      "2015-12-18    1.85\n",
      "2015-12-19    2.06\n",
      "2015-12-20    1.50\n",
      "2015-12-21    0.98\n",
      "2015-12-22    4.85\n",
      "2015-12-23    1.57\n",
      "2015-12-24    1.36\n",
      "2015-12-25    2.04\n",
      "2015-12-26    1.99\n",
      "2015-12-27    1.74\n",
      "2015-12-28    1.65\n",
      "2015-12-29    1.96\n",
      "2015-12-30    2.40\n",
      "2015-12-31    2.12\n",
      "Name: ETo_FAO_mm, Length: 5821, dtype: float64\n"
     ]
    }
   ],
   "source": [
    "print(eto1)"
   ]
  },
  {
   "cell_type": "code",
   "execution_count": 38,
   "metadata": {},
   "outputs": [],
   "source": [
    "export_csv = eto1.to_csv (r'C:\\Users\\User\\Desktop\\export_dataframe.csv', index = None, header=True) \n",
    "#Don't forget to add '.csv' at the end of the path\n"
   ]
  },
  {
   "cell_type": "code",
   "execution_count": 39,
   "metadata": {},
   "outputs": [
    {
     "name": "stdout",
     "output_type": "stream",
     "text": [
      "<eto.core.ETo object at 0x000001D477BE3AC8>\n"
     ]
    }
   ],
   "source": [
    "print(et1)"
   ]
  },
  {
   "cell_type": "code",
   "execution_count": null,
   "metadata": {},
   "outputs": [],
   "source": []
  }
 ],
 "metadata": {
  "kernelspec": {
   "display_name": "Python 3",
   "language": "python",
   "name": "python3"
  },
  "language_info": {
   "codemirror_mode": {
    "name": "ipython",
    "version": 3
   },
   "file_extension": ".py",
   "mimetype": "text/x-python",
   "name": "python",
   "nbconvert_exporter": "python",
   "pygments_lexer": "ipython3",
   "version": "3.6.6"
  }
 },
 "nbformat": 4,
 "nbformat_minor": 2
}
